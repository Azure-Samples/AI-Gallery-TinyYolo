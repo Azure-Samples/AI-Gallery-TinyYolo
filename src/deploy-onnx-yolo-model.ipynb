{
 "cells": [
  {
   "cell_type": "markdown",
   "metadata": {},
   "source": [
    "Copyright (c) Microsoft Corporation. All rights reserved.\n",
    "\n",
    "Licensed under the MIT License."
   ]
  },
  {
   "cell_type": "markdown",
   "metadata": {},
   "source": [
    "## Deploy Tiny YOLOv2 Real-time Object Detection using ONNX on AzureML\n",
    "\n",
    "This notebook guides you to register ONNX TinyYOLO model in Azure Machine Learning Service, deploy it as a web service, and run inference by providing input images."
   ]
  },
  {
   "cell_type": "markdown",
   "metadata": {},
   "source": [
    "### Download Tiny YOLOv2 Models\n",
    "\n",
    "Tiny YOLO is a real-time neural network for object detection. We download the model file from ONNX Zoo. More details about ONNX Tiny YOLO model can be found at: https://github.com/onnx/models/tree/master/tiny_yolov2"
   ]
  },
  {
   "cell_type": "code",
   "execution_count": null,
   "metadata": {
    "scrolled": true
   },
   "outputs": [],
   "source": [
    "import time\n",
    "\n",
    "start = time.time()\n",
    "!wget -nc -P model/  https://onnxzoo.blob.core.windows.net/models/opset_8/tiny_yolov2/tiny_yolov2.tar.gz\n",
    "!tar xvzf model/tiny_yolov2.tar.gz -C model/\n",
    "end = time.time()\n",
    "print(\"Model download latency: {} seconds\".format(end-start))"
   ]
  },
  {
   "cell_type": "markdown",
   "metadata": {},
   "source": [
    "### Load AML Workspace\n",
    "\n",
    "We will use the Azure Machine Learning Service Workspace created by running configuration.ipynb. Please run that notebook first if you haven't yet."
   ]
  },
  {
   "cell_type": "code",
   "execution_count": null,
   "metadata": {},
   "outputs": [],
   "source": [
    "from azureml.core import Workspace\n",
    "ws = Workspace.from_config()\n",
    "print(ws.name, ws.subscription_id, ws.resource_group, ws.location)"
   ]
  },
  {
   "cell_type": "markdown",
   "metadata": {},
   "source": [
    "### Register Tiny YOLO Model in Azure Machine Learning Service\n",
    "\n",
    "Run following python code snippets to register tiny YOLOv2 model to Model Management Service provided by Azure Machine Learning Service."
   ]
  },
  {
   "cell_type": "code",
   "execution_count": null,
   "metadata": {},
   "outputs": [],
   "source": [
    "from azureml.core.model import Model\n",
    "\n",
    "start = time.time()\n",
    "models = []\n",
    "\n",
    "new_model = Model.register(\n",
    "    workspace = ws,\n",
    "    model_path = \"model/tiny_yolov2/model.onnx\",\n",
    "    model_name = \"tinyyolov2\",\n",
    "    tags = {\"onnx\": \"demo\"})\n",
    "models.append(new_model)\n",
    "\n",
    "end = time.time()\n",
    "print(\"Register model latency: {} seconds\".format(end-start))\n",
    "print(\"Model id={}, name={}, created time={}\".format(\n",
    "    new_model.id, \n",
    "    new_model.name, \n",
    "    new_model.created_time))"
   ]
  },
  {
   "cell_type": "markdown",
   "metadata": {},
   "source": [
    "### Build Container Image \n",
    "\n",
    "Next, we will create a docker image which runs a flask web service. The web service has multiple endpoints to serve the tinyYOLO-v2 models.\n",
    "\n",
    "Please **Note**: this web service contains javascript codes to \"reshape\" the input image to 416 X 416 pixels in order to run Tiny YOLO model, and the logic to \"reshape\" the output classfication rectangle boxes back to the original image size. Details are under js folder."
   ]
  },
  {
   "cell_type": "code",
   "execution_count": null,
   "metadata": {},
   "outputs": [],
   "source": [
    "from azureml.core.image import Image, ContainerImage\n",
    "\n",
    "image_config = ContainerImage.image_configuration(\n",
    "    execution_script = \"score.py\",\n",
    "    runtime = \"python\", \n",
    "    dependencies = [\"app.py\", \"ui.html\", \"static/bundle.js\"],\n",
    "    conda_file = \"env.yml\",\n",
    "    tags = {\"onnx\": \"demo\"})\n",
    "\n",
    "start = time.time()\n",
    "image = Image.create(\n",
    "    workspace = ws,\n",
    "    name = \"onnx-yolo-demo-image\",\n",
    "    models = models,\n",
    "    image_config = image_config\n",
    ")\n",
    "\n",
    "image.wait_for_creation(show_output = True)\n",
    "\n",
    "end = time.time()\n",
    "print(\"Image creation latency: {} seconds\".format(end-start))"
   ]
  },
  {
   "cell_type": "markdown",
   "metadata": {},
   "source": [
    "### Deploy Image to ACI\n",
    "\n",
    "After we successfully create the image, we will use Azure Machine Leaning's python SDK to deploy it via Azure Container Instances (ACI)"
   ]
  },
  {
   "cell_type": "code",
   "execution_count": null,
   "metadata": {},
   "outputs": [],
   "source": [
    "from azureml.core.webservice import AciWebservice, Webservice\n",
    "\n",
    "aci_config = AciWebservice.deploy_configuration(cpu_cores = 1, memory_gb = 1)\n",
    "\n",
    "start = time.time()\n",
    "aci_service = Webservice.deploy_from_image(\n",
    "    workspace = ws,\n",
    "    name = \"onnx-yolo-demo-service2\",\n",
    "    image = image,\n",
    "    deployment_config = aci_config)\n",
    "aci_service.wait_for_deployment(show_output = True)\n",
    "\n",
    "end = time.time()\n",
    "print(\"Service deployment latency: {} seconds\".format(end-start))\n",
    "\n",
    "if (aci_service.state != 'Healthy'):\n",
    "    raise ValueError(\"service deployment is in bad state: {}\".format(aci_service.state))"
   ]
  },
  {
   "cell_type": "markdown",
   "metadata": {},
   "source": [
    "### Run Inference Interactively\n",
    "\n",
    "The deployed web service provides a UI page. You can drag and drop image and receive the predictions in real-time, shown as rectangle boxes overlapped to the image. \n",
    "\n",
    "You can use the sample images under SampleImages folder to try out the inference. "
   ]
  },
  {
   "cell_type": "code",
   "execution_count": null,
   "metadata": {},
   "outputs": [],
   "source": [
    "# Get demo URL \n",
    "demo_uri = aci_service.scoring_uri.replace(\"/score\", \"/ui\")\n",
    "print(\"Try out the ONNX TinyYOLO model at {}\".format(demo_uri))"
   ]
  },
  {
   "cell_type": "markdown",
   "metadata": {},
   "source": [
    "### Cleanup Resources\n",
    "\n",
    "Delete the web serivce, image, and models"
   ]
  },
  {
   "cell_type": "code",
   "execution_count": null,
   "metadata": {},
   "outputs": [],
   "source": [
    "aci_service.delete()\n",
    "image.delete()\n",
    "for m in models:\n",
    "    m.delete()\n",
    "print(\"Successfully deleted models, image and service.\")"
   ]
  },
  {
   "cell_type": "code",
   "execution_count": null,
   "metadata": {},
   "outputs": [],
   "source": []
  }
 ],
 "metadata": {
  "authors": [
   {
    "name": "andyxu"
   }
  ],
  "kernelspec": {
   "display_name": "Python 3.6",
   "language": "python",
   "name": "python36"
  },
  "language_info": {
   "codemirror_mode": {
    "name": "ipython",
    "version": 3
   },
   "file_extension": ".py",
   "mimetype": "text/x-python",
   "name": "python",
   "nbconvert_exporter": "python",
   "pygments_lexer": "ipython3",
   "version": "3.6.5"
  }
 },
 "nbformat": 4,
 "nbformat_minor": 2
}
